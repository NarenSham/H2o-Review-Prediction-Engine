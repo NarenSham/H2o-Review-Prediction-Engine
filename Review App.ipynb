{
 "cells": [
  {
   "cell_type": "code",
   "execution_count": 1,
   "metadata": {},
   "outputs": [],
   "source": [
    "import h2o"
   ]
  },
  {
   "cell_type": "code",
   "execution_count": 2,
   "metadata": {},
   "outputs": [
    {
     "name": "stdout",
     "output_type": "stream",
     "text": [
      "Checking whether there is an H2O instance running at http://localhost:54321..... not found.\n",
      "Attempting to start a local H2O server...\n",
      "  Java Version: java version \"1.8.0_151\"; Java(TM) SE Runtime Environment (build 1.8.0_151-b12); Java HotSpot(TM) 64-Bit Server VM (build 25.151-b12, mixed mode)\n",
      "  Starting server from /anaconda3/lib/python3.6/site-packages/h2o/backend/bin/h2o.jar\n",
      "  Ice root: /var/folders/xb/8f85vdvd2rz4d63twdbvtdgw0000gn/T/tmpmjd_vaaw\n",
      "  JVM stdout: /var/folders/xb/8f85vdvd2rz4d63twdbvtdgw0000gn/T/tmpmjd_vaaw/h2o_narensham_started_from_python.out\n",
      "  JVM stderr: /var/folders/xb/8f85vdvd2rz4d63twdbvtdgw0000gn/T/tmpmjd_vaaw/h2o_narensham_started_from_python.err\n",
      "  Server is running at http://127.0.0.1:54321\n",
      "Connecting to H2O server at http://127.0.0.1:54321... successful.\n"
     ]
    },
    {
     "data": {
      "text/html": [
       "<div style=\"overflow:auto\"><table style=\"width:50%\"><tr><td>H2O cluster uptime:</td>\n",
       "<td>02 secs</td></tr>\n",
       "<tr><td>H2O cluster timezone:</td>\n",
       "<td>America/New_York</td></tr>\n",
       "<tr><td>H2O data parsing timezone:</td>\n",
       "<td>UTC</td></tr>\n",
       "<tr><td>H2O cluster version:</td>\n",
       "<td>3.22.0.1</td></tr>\n",
       "<tr><td>H2O cluster version age:</td>\n",
       "<td>15 days </td></tr>\n",
       "<tr><td>H2O cluster name:</td>\n",
       "<td>H2O_from_python_narensham_8ecbzk</td></tr>\n",
       "<tr><td>H2O cluster total nodes:</td>\n",
       "<td>1</td></tr>\n",
       "<tr><td>H2O cluster free memory:</td>\n",
       "<td>1.778 Gb</td></tr>\n",
       "<tr><td>H2O cluster total cores:</td>\n",
       "<td>8</td></tr>\n",
       "<tr><td>H2O cluster allowed cores:</td>\n",
       "<td>8</td></tr>\n",
       "<tr><td>H2O cluster status:</td>\n",
       "<td>accepting new members, healthy</td></tr>\n",
       "<tr><td>H2O connection url:</td>\n",
       "<td>http://127.0.0.1:54321</td></tr>\n",
       "<tr><td>H2O connection proxy:</td>\n",
       "<td>None</td></tr>\n",
       "<tr><td>H2O internal security:</td>\n",
       "<td>False</td></tr>\n",
       "<tr><td>H2O API Extensions:</td>\n",
       "<td>XGBoost, Algos, AutoML, Core V3, Core V4</td></tr>\n",
       "<tr><td>Python version:</td>\n",
       "<td>3.6.4 final</td></tr></table></div>"
      ],
      "text/plain": [
       "--------------------------  ----------------------------------------\n",
       "H2O cluster uptime:         02 secs\n",
       "H2O cluster timezone:       America/New_York\n",
       "H2O data parsing timezone:  UTC\n",
       "H2O cluster version:        3.22.0.1\n",
       "H2O cluster version age:    15 days\n",
       "H2O cluster name:           H2O_from_python_narensham_8ecbzk\n",
       "H2O cluster total nodes:    1\n",
       "H2O cluster free memory:    1.778 Gb\n",
       "H2O cluster total cores:    8\n",
       "H2O cluster allowed cores:  8\n",
       "H2O cluster status:         accepting new members, healthy\n",
       "H2O connection url:         http://127.0.0.1:54321\n",
       "H2O connection proxy:\n",
       "H2O internal security:      False\n",
       "H2O API Extensions:         XGBoost, Algos, AutoML, Core V3, Core V4\n",
       "Python version:             3.6.4 final\n",
       "--------------------------  ----------------------------------------"
      ]
     },
     "metadata": {},
     "output_type": "display_data"
    }
   ],
   "source": [
    "h2o.init(max_mem_size=\"2G\")"
   ]
  },
  {
   "cell_type": "code",
   "execution_count": 123,
   "metadata": {},
   "outputs": [],
   "source": [
    "docker_data_path = \"/Users/narensham/Downloads/sentiment labelled sentences/yelp_labelled.txt\"\n"
   ]
  },
  {
   "cell_type": "code",
   "execution_count": 124,
   "metadata": {},
   "outputs": [
    {
     "data": {
      "text/plain": [
       "'/Users/narensham/Downloads/sentiment labelled sentences/yelp_labelled.txt'"
      ]
     },
     "execution_count": 124,
     "metadata": {},
     "output_type": "execute_result"
    }
   ],
   "source": [
    "docker_data_path"
   ]
  },
  {
   "cell_type": "code",
   "execution_count": 136,
   "metadata": {},
   "outputs": [
    {
     "name": "stdout",
     "output_type": "stream",
     "text": [
      "<class 'pandas.core.frame.DataFrame'>\n",
      "Parse progress: |█████████████████████████████████████████████████████████| 100%\n"
     ]
    }
   ],
   "source": [
    "import pandas as pd\n",
    "import numpy as np\n",
    "\n",
    "tsv_file='/Users/narensham/Downloads/sentiment labelled sentences/yelp_labelled.txt'\n",
    "csv_table=pd.read_table(tsv_file,sep='\\t',header=None,names = [\"Review\", \"Response\"] )\n",
    "csv_table.to_csv('reviews.csv',index=False)\n",
    "\n",
    "print(type(csv_table))\n",
    "csv_table\n",
    "reviews = h2o.h2o.H2OFrame(csv_table)\n",
    "\n"
   ]
  },
  {
   "cell_type": "code",
   "execution_count": 128,
   "metadata": {},
   "outputs": [
    {
     "data": {
      "text/html": [
       "<table>\n",
       "<thead>\n",
       "<tr><th>Review                                                                                                         </th><th style=\"text-align: right;\">  Response</th></tr>\n",
       "</thead>\n",
       "<tbody>\n",
       "<tr><td>Wow... Loved this place.                                                                                       </td><td style=\"text-align: right;\">         1</td></tr>\n",
       "<tr><td>Crust is not good.                                                                                             </td><td style=\"text-align: right;\">         0</td></tr>\n",
       "<tr><td>Not tasty and the texture was just nasty.                                                                      </td><td style=\"text-align: right;\">         0</td></tr>\n",
       "<tr><td>Stopped by during the late May bank holiday off Rick Steve recommendation and loved it.                        </td><td style=\"text-align: right;\">         1</td></tr>\n",
       "<tr><td>The selection on the menu was great and so were the prices.                                                    </td><td style=\"text-align: right;\">         1</td></tr>\n",
       "<tr><td>Now I am getting angry and I want my damn pho.                                                                 </td><td style=\"text-align: right;\">         0</td></tr>\n",
       "<tr><td>Honeslty it didn't taste THAT fresh.)                                                                          </td><td style=\"text-align: right;\">         0</td></tr>\n",
       "<tr><td>The potatoes were like rubber and you could tell they had been made up ahead of time being kept under a warmer.</td><td style=\"text-align: right;\">         0</td></tr>\n",
       "<tr><td>The fries were great too.                                                                                      </td><td style=\"text-align: right;\">         1</td></tr>\n",
       "<tr><td>A great touch.                                                                                                 </td><td style=\"text-align: right;\">         1</td></tr>\n",
       "</tbody>\n",
       "</table>"
      ]
     },
     "metadata": {},
     "output_type": "display_data"
    },
    {
     "data": {
      "text/plain": []
     },
     "execution_count": 128,
     "metadata": {},
     "output_type": "execute_result"
    }
   ],
   "source": [
    "reviews"
   ]
  },
  {
   "cell_type": "code",
   "execution_count": 137,
   "metadata": {},
   "outputs": [
    {
     "data": {
      "text/html": [
       "<table>\n",
       "<thead>\n",
       "<tr><th style=\"text-align: right;\">  Response</th><th style=\"text-align: right;\">  Count</th></tr>\n",
       "</thead>\n",
       "<tbody>\n",
       "<tr><td style=\"text-align: right;\">         0</td><td style=\"text-align: right;\">    500</td></tr>\n",
       "<tr><td style=\"text-align: right;\">         1</td><td style=\"text-align: right;\">    500</td></tr>\n",
       "</tbody>\n",
       "</table>"
      ]
     },
     "metadata": {},
     "output_type": "display_data"
    },
    {
     "data": {
      "text/plain": []
     },
     "execution_count": 137,
     "metadata": {},
     "output_type": "execute_result"
    }
   ],
   "source": [
    "reviews[\"Response\"].table()"
   ]
  },
  {
   "cell_type": "code",
   "execution_count": 138,
   "metadata": {},
   "outputs": [],
   "source": [
    "STOP_WORDS = [\"ax\",\"i\",\"you\",\"edu\",\"s\",\"t\",\"m\",\"subject\",\"can\",\"lines\",\"re\",\"what\",\n",
    "               \"there\",\"all\",\"we\",\"one\",\"the\",\"a\",\"an\",\"of\",\"or\",\"in\",\"for\",\"by\",\"on\",\n",
    "               \"but\",\"is\",\"in\",\"a\",\"not\",\"with\",\"as\",\"was\",\"if\",\"they\",\"are\",\"this\",\"and\",\"it\",\"have\",\n",
    "               \"from\",\"at\",\"my\",\"be\",\"by\",\"not\",\"that\",\"to\",\"from\",\"com\",\"org\",\"like\",\"likes\",\"so\"]"
   ]
  },
  {
   "cell_type": "code",
   "execution_count": 134,
   "metadata": {},
   "outputs": [],
   "source": [
    "\n",
    "def tokenize(sentences, stop_word = STOP_WORDS):\n",
    "    tokenized = sentences.tokenize(\"\\\\W+\")\n",
    "    tokenized_lower = tokenized.tolower()\n",
    "    tokenized_filtered = tokenized_lower[(tokenized_lower.nchar() >= 2) | (tokenized_lower.isna()),:]\n",
    "    tokenized_words = tokenized_filtered[tokenized_filtered.grep(\"[0-9]\",invert=True,output_logical=True),:]\n",
    "    tokenized_words = tokenized_words[(tokenized_words.isna()) | (~ tokenized_words.isin(STOP_WORDS)),:]\n",
    "    return tokenized_words"
   ]
  },
  {
   "cell_type": "code",
   "execution_count": 140,
   "metadata": {},
   "outputs": [],
   "source": [
    "words = tokenize(reviews[\"Review\"])\n"
   ]
  },
  {
   "cell_type": "code",
   "execution_count": 141,
   "metadata": {
    "scrolled": true
   },
   "outputs": [
    {
     "data": {
      "text/html": [
       "<table>\n",
       "<thead>\n",
       "<tr><th>C1     </th></tr>\n",
       "</thead>\n",
       "<tbody>\n",
       "<tr><td>wow    </td></tr>\n",
       "<tr><td>loved  </td></tr>\n",
       "<tr><td>place  </td></tr>\n",
       "<tr><td>       </td></tr>\n",
       "<tr><td>crust  </td></tr>\n",
       "<tr><td>good   </td></tr>\n",
       "<tr><td>       </td></tr>\n",
       "<tr><td>tasty  </td></tr>\n",
       "<tr><td>texture</td></tr>\n",
       "<tr><td>just   </td></tr>\n",
       "</tbody>\n",
       "</table>"
      ]
     },
     "metadata": {},
     "output_type": "display_data"
    },
    {
     "data": {
      "text/plain": []
     },
     "execution_count": 141,
     "metadata": {},
     "output_type": "execute_result"
    }
   ],
   "source": [
    "words.head()\n"
   ]
  },
  {
   "cell_type": "code",
   "execution_count": 142,
   "metadata": {},
   "outputs": [
    {
     "name": "stdout",
     "output_type": "stream",
     "text": [
      "word2vec Model Build progress: |██████████████████████████████████████████| 100%\n"
     ]
    }
   ],
   "source": [
    "from h2o.estimators.word2vec import H2OWord2vecEstimator\n",
    "\n",
    "\n",
    "w2v_model = H2OWord2vecEstimator(vec_size = 100, model_id = \"w2v.hex\")\n",
    "w2v_model.train(training_frame=words)"
   ]
  },
  {
   "cell_type": "code",
   "execution_count": 148,
   "metadata": {},
   "outputs": [
    {
     "data": {
      "text/plain": [
       "OrderedDict([('any', 0.9962106943130493),\n",
       "             ('beef', 0.996195912361145),\n",
       "             ('tasty', 0.9961864948272705),\n",
       "             ('selection', 0.995969295501709),\n",
       "             ('has', 0.9958986639976501)])"
      ]
     },
     "execution_count": 148,
     "metadata": {},
     "output_type": "execute_result"
    }
   ],
   "source": [
    "w2v_model.find_synonyms(\"good\", count = 5)\n"
   ]
  },
  {
   "cell_type": "code",
   "execution_count": 149,
   "metadata": {},
   "outputs": [],
   "source": [
    "review_vecs = w2v_model.transform(words, aggregate_method = \"AVERAGE\")\n"
   ]
  },
  {
   "cell_type": "code",
   "execution_count": 150,
   "metadata": {},
   "outputs": [
    {
     "data": {
      "text/html": [
       "<table>\n",
       "<thead>\n",
       "<tr><th>Review                                                                                                         </th><th style=\"text-align: right;\">  Response</th><th style=\"text-align: right;\">       C1</th><th style=\"text-align: right;\">       C2</th><th style=\"text-align: right;\">        C3</th><th style=\"text-align: right;\">       C4</th><th style=\"text-align: right;\">        C5</th><th style=\"text-align: right;\">        C6</th><th style=\"text-align: right;\">        C7</th><th style=\"text-align: right;\">       C8</th><th style=\"text-align: right;\">         C9</th><th style=\"text-align: right;\">      C10</th><th style=\"text-align: right;\">      C11</th><th style=\"text-align: right;\">      C12</th><th style=\"text-align: right;\">      C13</th><th style=\"text-align: right;\">       C14</th><th style=\"text-align: right;\">      C15</th><th style=\"text-align: right;\">      C16</th><th style=\"text-align: right;\">       C17</th><th style=\"text-align: right;\">      C18</th><th style=\"text-align: right;\">      C19</th><th style=\"text-align: right;\">         C20</th><th style=\"text-align: right;\">       C21</th><th style=\"text-align: right;\">         C22</th><th style=\"text-align: right;\">      C23</th><th style=\"text-align: right;\">       C24</th><th style=\"text-align: right;\">        C25</th><th style=\"text-align: right;\">        C26</th><th style=\"text-align: right;\">       C27</th><th style=\"text-align: right;\">       C28</th><th style=\"text-align: right;\">        C29</th><th style=\"text-align: right;\">       C30</th><th style=\"text-align: right;\">       C31</th><th style=\"text-align: right;\">         C32</th><th style=\"text-align: right;\">      C33</th><th style=\"text-align: right;\">      C34</th><th style=\"text-align: right;\">      C35</th><th style=\"text-align: right;\">       C36</th><th style=\"text-align: right;\">       C37</th><th style=\"text-align: right;\">        C38</th><th style=\"text-align: right;\">        C39</th><th style=\"text-align: right;\">      C40</th><th style=\"text-align: right;\">       C41</th><th style=\"text-align: right;\">       C42</th><th style=\"text-align: right;\">      C43</th><th style=\"text-align: right;\">        C44</th><th style=\"text-align: right;\">       C45</th><th style=\"text-align: right;\">        C46</th><th style=\"text-align: right;\">      C47</th><th style=\"text-align: right;\">      C48</th><th style=\"text-align: right;\">       C49</th><th style=\"text-align: right;\">       C50</th><th style=\"text-align: right;\">      C51</th><th style=\"text-align: right;\">       C52</th><th style=\"text-align: right;\">      C53</th><th style=\"text-align: right;\">        C54</th><th style=\"text-align: right;\">       C55</th><th style=\"text-align: right;\">       C56</th><th style=\"text-align: right;\">      C57</th><th style=\"text-align: right;\">      C58</th><th style=\"text-align: right;\">       C59</th><th style=\"text-align: right;\">      C60</th><th style=\"text-align: right;\">       C61</th><th style=\"text-align: right;\">       C62</th><th style=\"text-align: right;\">        C63</th><th style=\"text-align: right;\">      C64</th><th style=\"text-align: right;\">       C65</th><th style=\"text-align: right;\">      C66</th><th style=\"text-align: right;\">       C67</th><th style=\"text-align: right;\">      C68</th><th style=\"text-align: right;\">         C69</th><th style=\"text-align: right;\">       C70</th><th style=\"text-align: right;\">      C71</th><th style=\"text-align: right;\">      C72</th><th style=\"text-align: right;\">        C73</th><th style=\"text-align: right;\">        C74</th><th style=\"text-align: right;\">      C75</th><th style=\"text-align: right;\">      C76</th><th style=\"text-align: right;\">      C77</th><th style=\"text-align: right;\">       C78</th><th style=\"text-align: right;\">      C79</th><th style=\"text-align: right;\">      C80</th><th style=\"text-align: right;\">      C81</th><th style=\"text-align: right;\">      C82</th><th style=\"text-align: right;\">        C83</th><th style=\"text-align: right;\">      C84</th><th style=\"text-align: right;\">       C85</th><th style=\"text-align: right;\">       C86</th><th style=\"text-align: right;\">       C87</th><th style=\"text-align: right;\">       C88</th><th style=\"text-align: right;\">        C89</th><th style=\"text-align: right;\">        C90</th><th style=\"text-align: right;\">       C91</th><th style=\"text-align: right;\">      C92</th><th style=\"text-align: right;\">      C93</th><th style=\"text-align: right;\">      C94</th><th style=\"text-align: right;\">       C95</th><th style=\"text-align: right;\">         C96</th><th style=\"text-align: right;\">       C97</th><th style=\"text-align: right;\">      C98</th><th style=\"text-align: right;\">      C99</th><th style=\"text-align: right;\">      C100</th></tr>\n",
       "</thead>\n",
       "<tbody>\n",
       "<tr><td>Wow... Loved this place.                                                                                       </td><td style=\"text-align: right;\">         1</td><td style=\"text-align: right;\">0.0305173</td><td style=\"text-align: right;\">0.0175541</td><td style=\"text-align: right;\">-0.0576459</td><td style=\"text-align: right;\">0.0510853</td><td style=\"text-align: right;\">-0.047845 </td><td style=\"text-align: right;\">-0.0398205</td><td style=\"text-align: right;\">-0.0765224</td><td style=\"text-align: right;\">0.0374798</td><td style=\"text-align: right;\">-0.00127996</td><td style=\"text-align: right;\">0.0308415</td><td style=\"text-align: right;\">0.0710056</td><td style=\"text-align: right;\">0.0255545</td><td style=\"text-align: right;\">0.0374585</td><td style=\"text-align: right;\">-0.0209674</td><td style=\"text-align: right;\">0.0729731</td><td style=\"text-align: right;\">0.039661 </td><td style=\"text-align: right;\">0.00777145</td><td style=\"text-align: right;\">0.0149295</td><td style=\"text-align: right;\">0.0135909</td><td style=\"text-align: right;\">-0.00940728 </td><td style=\"text-align: right;\">-0.039358 </td><td style=\"text-align: right;\"> 0.0045629  </td><td style=\"text-align: right;\">0.0671427</td><td style=\"text-align: right;\">-0.0339481</td><td style=\"text-align: right;\">-0.00755144</td><td style=\"text-align: right;\">-0.00575592</td><td style=\"text-align: right;\">-0.0685929</td><td style=\"text-align: right;\">-0.0682189</td><td style=\"text-align: right;\">-0.00814223</td><td style=\"text-align: right;\">-0.0279974</td><td style=\"text-align: right;\">-0.0287389</td><td style=\"text-align: right;\"> 0.00237021 </td><td style=\"text-align: right;\">0.0321404</td><td style=\"text-align: right;\">0.0234804</td><td style=\"text-align: right;\">0.0208277</td><td style=\"text-align: right;\">-0.0341468</td><td style=\"text-align: right;\">-0.0292925</td><td style=\"text-align: right;\">-0.00852861</td><td style=\"text-align: right;\">-0.00959041</td><td style=\"text-align: right;\">0.0298968</td><td style=\"text-align: right;\">-0.0473865</td><td style=\"text-align: right;\">-0.0285715</td><td style=\"text-align: right;\">0.0144567</td><td style=\"text-align: right;\">-0.00618974</td><td style=\"text-align: right;\">-0.0457551</td><td style=\"text-align: right;\">-0.0107684 </td><td style=\"text-align: right;\">0.0891151</td><td style=\"text-align: right;\">0.014998 </td><td style=\"text-align: right;\">-0.0460126</td><td style=\"text-align: right;\">-0.0302597</td><td style=\"text-align: right;\">0.0313437</td><td style=\"text-align: right;\">-0.0147185</td><td style=\"text-align: right;\">0.0250111</td><td style=\"text-align: right;\">-0.00701382</td><td style=\"text-align: right;\">-0.0170174</td><td style=\"text-align: right;\">-0.0138855</td><td style=\"text-align: right;\">0.0184061</td><td style=\"text-align: right;\">0.0388042</td><td style=\"text-align: right;\">-0.0251336</td><td style=\"text-align: right;\">0.0548319</td><td style=\"text-align: right;\">-0.0202333</td><td style=\"text-align: right;\">0.00458801</td><td style=\"text-align: right;\">-0.00791585</td><td style=\"text-align: right;\">0.0414682</td><td style=\"text-align: right;\">0.00859042</td><td style=\"text-align: right;\">0.0157529</td><td style=\"text-align: right;\">-0.0377039</td><td style=\"text-align: right;\">0.0334   </td><td style=\"text-align: right;\">-0.00148068 </td><td style=\"text-align: right;\">-0.075409 </td><td style=\"text-align: right;\">0.0471373</td><td style=\"text-align: right;\">0.0492487</td><td style=\"text-align: right;\"> 0.00899016</td><td style=\"text-align: right;\">0.00606873 </td><td style=\"text-align: right;\">0.0127755</td><td style=\"text-align: right;\">0.0370748</td><td style=\"text-align: right;\">0.0683728</td><td style=\"text-align: right;\">0.004692  </td><td style=\"text-align: right;\">0.0253746</td><td style=\"text-align: right;\">0.0300285</td><td style=\"text-align: right;\">0.0689641</td><td style=\"text-align: right;\">0.0454467</td><td style=\"text-align: right;\">-0.00437894</td><td style=\"text-align: right;\">0.0336626</td><td style=\"text-align: right;\">0.00274577</td><td style=\"text-align: right;\">0.00258641</td><td style=\"text-align: right;\">-0.0473014</td><td style=\"text-align: right;\">-0.0219614</td><td style=\"text-align: right;\">-0.0109404 </td><td style=\"text-align: right;\">-0.00226253</td><td style=\"text-align: right;\">0.00696371</td><td style=\"text-align: right;\">0.0245398</td><td style=\"text-align: right;\">0.0187225</td><td style=\"text-align: right;\">0.0213948</td><td style=\"text-align: right;\">0.0055568 </td><td style=\"text-align: right;\"> 0.00233322 </td><td style=\"text-align: right;\">-0.0349367</td><td style=\"text-align: right;\">0.0233755</td><td style=\"text-align: right;\">0.0128391</td><td style=\"text-align: right;\">-0.0274965</td></tr>\n",
       "<tr><td>Crust is not good.                                                                                             </td><td style=\"text-align: right;\">         0</td><td style=\"text-align: right;\">0.0437792</td><td style=\"text-align: right;\">0.0214361</td><td style=\"text-align: right;\">-0.0760255</td><td style=\"text-align: right;\">0.0713201</td><td style=\"text-align: right;\">-0.0641388</td><td style=\"text-align: right;\">-0.0628254</td><td style=\"text-align: right;\">-0.106834 </td><td style=\"text-align: right;\">0.0479435</td><td style=\"text-align: right;\">-0.00595153</td><td style=\"text-align: right;\">0.0381223</td><td style=\"text-align: right;\">0.100491 </td><td style=\"text-align: right;\">0.0299858</td><td style=\"text-align: right;\">0.060311 </td><td style=\"text-align: right;\">-0.0324149</td><td style=\"text-align: right;\">0.103368 </td><td style=\"text-align: right;\">0.0534029</td><td style=\"text-align: right;\">0.00587236</td><td style=\"text-align: right;\">0.0318914</td><td style=\"text-align: right;\">0.0220649</td><td style=\"text-align: right;\">-0.00356697 </td><td style=\"text-align: right;\">-0.0564038</td><td style=\"text-align: right;\"> 0.00368043 </td><td style=\"text-align: right;\">0.0942116</td><td style=\"text-align: right;\">-0.0478993</td><td style=\"text-align: right;\">-0.0131273 </td><td style=\"text-align: right;\">-0.0106299 </td><td style=\"text-align: right;\">-0.0966832</td><td style=\"text-align: right;\">-0.0930972</td><td style=\"text-align: right;\">-0.0161023 </td><td style=\"text-align: right;\">-0.0282471</td><td style=\"text-align: right;\">-0.0340591</td><td style=\"text-align: right;\"> 0.00305596 </td><td style=\"text-align: right;\">0.0409709</td><td style=\"text-align: right;\">0.02441  </td><td style=\"text-align: right;\">0.0283833</td><td style=\"text-align: right;\">-0.0334325</td><td style=\"text-align: right;\">-0.0457432</td><td style=\"text-align: right;\">-0.0152521 </td><td style=\"text-align: right;\">-0.00326394</td><td style=\"text-align: right;\">0.0459336</td><td style=\"text-align: right;\">-0.0670292</td><td style=\"text-align: right;\">-0.042389 </td><td style=\"text-align: right;\">0.0111922</td><td style=\"text-align: right;\">-0.0100143 </td><td style=\"text-align: right;\">-0.0568149</td><td style=\"text-align: right;\">-0.00711401</td><td style=\"text-align: right;\">0.123613 </td><td style=\"text-align: right;\">0.0199259</td><td style=\"text-align: right;\">-0.0556739</td><td style=\"text-align: right;\">-0.0473441</td><td style=\"text-align: right;\">0.0444799</td><td style=\"text-align: right;\">-0.0255426</td><td style=\"text-align: right;\">0.0299913</td><td style=\"text-align: right;\">-0.0132451 </td><td style=\"text-align: right;\">-0.0237517</td><td style=\"text-align: right;\">-0.0165788</td><td style=\"text-align: right;\">0.0278089</td><td style=\"text-align: right;\">0.0570494</td><td style=\"text-align: right;\">-0.0381073</td><td style=\"text-align: right;\">0.0769652</td><td style=\"text-align: right;\">-0.0214238</td><td style=\"text-align: right;\">0.00481206</td><td style=\"text-align: right;\">-0.0161972 </td><td style=\"text-align: right;\">0.0518918</td><td style=\"text-align: right;\">0.0047002 </td><td style=\"text-align: right;\">0.0200333</td><td style=\"text-align: right;\">-0.0417524</td><td style=\"text-align: right;\">0.0555611</td><td style=\"text-align: right;\"> 0.0121466  </td><td style=\"text-align: right;\">-0.103637 </td><td style=\"text-align: right;\">0.0551236</td><td style=\"text-align: right;\">0.0769891</td><td style=\"text-align: right;\">-0.00233368</td><td style=\"text-align: right;\">0.00725453 </td><td style=\"text-align: right;\">0.022365 </td><td style=\"text-align: right;\">0.0464668</td><td style=\"text-align: right;\">0.0948183</td><td style=\"text-align: right;\">0.00564161</td><td style=\"text-align: right;\">0.0279779</td><td style=\"text-align: right;\">0.0398661</td><td style=\"text-align: right;\">0.0848617</td><td style=\"text-align: right;\">0.0603579</td><td style=\"text-align: right;\">-0.00890949</td><td style=\"text-align: right;\">0.0523955</td><td style=\"text-align: right;\">0.0036236 </td><td style=\"text-align: right;\">0.0037441 </td><td style=\"text-align: right;\">-0.0641437</td><td style=\"text-align: right;\">-0.0413771</td><td style=\"text-align: right;\">-0.00927251</td><td style=\"text-align: right;\">-0.0134889 </td><td style=\"text-align: right;\">0.013549  </td><td style=\"text-align: right;\">0.0325606</td><td style=\"text-align: right;\">0.028653 </td><td style=\"text-align: right;\">0.0304876</td><td style=\"text-align: right;\">0.0142154 </td><td style=\"text-align: right;\"> 0.00788176 </td><td style=\"text-align: right;\">-0.0535136</td><td style=\"text-align: right;\">0.0311281</td><td style=\"text-align: right;\">0.0234579</td><td style=\"text-align: right;\">-0.0397426</td></tr>\n",
       "<tr><td>Not tasty and the texture was just nasty.                                                                      </td><td style=\"text-align: right;\">         0</td><td style=\"text-align: right;\">0.0440478</td><td style=\"text-align: right;\">0.0275222</td><td style=\"text-align: right;\">-0.0790401</td><td style=\"text-align: right;\">0.0699487</td><td style=\"text-align: right;\">-0.0649007</td><td style=\"text-align: right;\">-0.0599934</td><td style=\"text-align: right;\">-0.101565 </td><td style=\"text-align: right;\">0.0480304</td><td style=\"text-align: right;\">-0.00492378</td><td style=\"text-align: right;\">0.0338798</td><td style=\"text-align: right;\">0.0960672</td><td style=\"text-align: right;\">0.0306766</td><td style=\"text-align: right;\">0.0504695</td><td style=\"text-align: right;\">-0.0285912</td><td style=\"text-align: right;\">0.0998354</td><td style=\"text-align: right;\">0.0514365</td><td style=\"text-align: right;\">0.00771078</td><td style=\"text-align: right;\">0.0259316</td><td style=\"text-align: right;\">0.0147981</td><td style=\"text-align: right;\">-0.00854294 </td><td style=\"text-align: right;\">-0.0503832</td><td style=\"text-align: right;\"> 0.000266629</td><td style=\"text-align: right;\">0.0918535</td><td style=\"text-align: right;\">-0.0483871</td><td style=\"text-align: right;\">-0.0081012 </td><td style=\"text-align: right;\">-0.00731055</td><td style=\"text-align: right;\">-0.0933251</td><td style=\"text-align: right;\">-0.0921846</td><td style=\"text-align: right;\">-0.0131352 </td><td style=\"text-align: right;\">-0.0327351</td><td style=\"text-align: right;\">-0.036702 </td><td style=\"text-align: right;\"> 0.00297397 </td><td style=\"text-align: right;\">0.0457149</td><td style=\"text-align: right;\">0.0285145</td><td style=\"text-align: right;\">0.026469 </td><td style=\"text-align: right;\">-0.0381528</td><td style=\"text-align: right;\">-0.0441511</td><td style=\"text-align: right;\">-0.0182388 </td><td style=\"text-align: right;\">-0.00718906</td><td style=\"text-align: right;\">0.038357 </td><td style=\"text-align: right;\">-0.0634769</td><td style=\"text-align: right;\">-0.0404515</td><td style=\"text-align: right;\">0.0148102</td><td style=\"text-align: right;\">-0.0109724 </td><td style=\"text-align: right;\">-0.062361 </td><td style=\"text-align: right;\">-0.00798724</td><td style=\"text-align: right;\">0.119616 </td><td style=\"text-align: right;\">0.0215408</td><td style=\"text-align: right;\">-0.0560556</td><td style=\"text-align: right;\">-0.0412266</td><td style=\"text-align: right;\">0.0416953</td><td style=\"text-align: right;\">-0.0238718</td><td style=\"text-align: right;\">0.0256721</td><td style=\"text-align: right;\">-0.00731694</td><td style=\"text-align: right;\">-0.0223795</td><td style=\"text-align: right;\">-0.0212148</td><td style=\"text-align: right;\">0.0242046</td><td style=\"text-align: right;\">0.0497255</td><td style=\"text-align: right;\">-0.0340997</td><td style=\"text-align: right;\">0.0725091</td><td style=\"text-align: right;\">-0.0203243</td><td style=\"text-align: right;\">0.00411312</td><td style=\"text-align: right;\">-0.0139603 </td><td style=\"text-align: right;\">0.0490311</td><td style=\"text-align: right;\">0.00892819</td><td style=\"text-align: right;\">0.0183629</td><td style=\"text-align: right;\">-0.0449824</td><td style=\"text-align: right;\">0.0471428</td><td style=\"text-align: right;\"> 0.00577504 </td><td style=\"text-align: right;\">-0.099184 </td><td style=\"text-align: right;\">0.0565254</td><td style=\"text-align: right;\">0.0681913</td><td style=\"text-align: right;\"> 0.00472853</td><td style=\"text-align: right;\">0.0104098  </td><td style=\"text-align: right;\">0.0227591</td><td style=\"text-align: right;\">0.047166 </td><td style=\"text-align: right;\">0.0960688</td><td style=\"text-align: right;\">0.00854554</td><td style=\"text-align: right;\">0.0342712</td><td style=\"text-align: right;\">0.042108 </td><td style=\"text-align: right;\">0.0845024</td><td style=\"text-align: right;\">0.0579815</td><td style=\"text-align: right;\">-0.00563328</td><td style=\"text-align: right;\">0.0474888</td><td style=\"text-align: right;\">0.00618619</td><td style=\"text-align: right;\">0.0080574 </td><td style=\"text-align: right;\">-0.0642508</td><td style=\"text-align: right;\">-0.0322116</td><td style=\"text-align: right;\">-0.0101788 </td><td style=\"text-align: right;\">-0.00631339</td><td style=\"text-align: right;\">0.0120128 </td><td style=\"text-align: right;\">0.0294796</td><td style=\"text-align: right;\">0.0289176</td><td style=\"text-align: right;\">0.0278533</td><td style=\"text-align: right;\">0.00971164</td><td style=\"text-align: right;\"> 0.00403212 </td><td style=\"text-align: right;\">-0.0507071</td><td style=\"text-align: right;\">0.0297704</td><td style=\"text-align: right;\">0.0201693</td><td style=\"text-align: right;\">-0.0364076</td></tr>\n",
       "<tr><td>Stopped by during the late May bank holiday off Rick Steve recommendation and loved it.                        </td><td style=\"text-align: right;\">         1</td><td style=\"text-align: right;\">0.0431314</td><td style=\"text-align: right;\">0.0217065</td><td style=\"text-align: right;\">-0.0708625</td><td style=\"text-align: right;\">0.0621968</td><td style=\"text-align: right;\">-0.0580134</td><td style=\"text-align: right;\">-0.0509134</td><td style=\"text-align: right;\">-0.0917197</td><td style=\"text-align: right;\">0.0426209</td><td style=\"text-align: right;\">-0.00526342</td><td style=\"text-align: right;\">0.0339586</td><td style=\"text-align: right;\">0.0854639</td><td style=\"text-align: right;\">0.0307948</td><td style=\"text-align: right;\">0.0494994</td><td style=\"text-align: right;\">-0.0220724</td><td style=\"text-align: right;\">0.0887504</td><td style=\"text-align: right;\">0.0446647</td><td style=\"text-align: right;\">0.00967285</td><td style=\"text-align: right;\">0.0246356</td><td style=\"text-align: right;\">0.0125992</td><td style=\"text-align: right;\">-0.00514515 </td><td style=\"text-align: right;\">-0.0493812</td><td style=\"text-align: right;\"> 0.0034338  </td><td style=\"text-align: right;\">0.084219 </td><td style=\"text-align: right;\">-0.0469693</td><td style=\"text-align: right;\">-0.00495336</td><td style=\"text-align: right;\">-0.0100875 </td><td style=\"text-align: right;\">-0.0809307</td><td style=\"text-align: right;\">-0.0818674</td><td style=\"text-align: right;\">-0.0100655 </td><td style=\"text-align: right;\">-0.0277049</td><td style=\"text-align: right;\">-0.0326512</td><td style=\"text-align: right;\"> 0.00336041 </td><td style=\"text-align: right;\">0.0392672</td><td style=\"text-align: right;\">0.0309713</td><td style=\"text-align: right;\">0.0251462</td><td style=\"text-align: right;\">-0.0322889</td><td style=\"text-align: right;\">-0.038977 </td><td style=\"text-align: right;\">-0.0171452 </td><td style=\"text-align: right;\">-0.00674197</td><td style=\"text-align: right;\">0.0343315</td><td style=\"text-align: right;\">-0.0559051</td><td style=\"text-align: right;\">-0.0330056</td><td style=\"text-align: right;\">0.015798 </td><td style=\"text-align: right;\">-0.00927152</td><td style=\"text-align: right;\">-0.0536034</td><td style=\"text-align: right;\">-0.00781611</td><td style=\"text-align: right;\">0.105148 </td><td style=\"text-align: right;\">0.0173982</td><td style=\"text-align: right;\">-0.0531664</td><td style=\"text-align: right;\">-0.0345922</td><td style=\"text-align: right;\">0.0348084</td><td style=\"text-align: right;\">-0.0161532</td><td style=\"text-align: right;\">0.0220275</td><td style=\"text-align: right;\">-0.00757078</td><td style=\"text-align: right;\">-0.0164258</td><td style=\"text-align: right;\">-0.0181948</td><td style=\"text-align: right;\">0.0225327</td><td style=\"text-align: right;\">0.0459791</td><td style=\"text-align: right;\">-0.0337831</td><td style=\"text-align: right;\">0.059948 </td><td style=\"text-align: right;\">-0.0224439</td><td style=\"text-align: right;\">0.00393289</td><td style=\"text-align: right;\">-0.00882771</td><td style=\"text-align: right;\">0.0462546</td><td style=\"text-align: right;\">0.00593153</td><td style=\"text-align: right;\">0.0177867</td><td style=\"text-align: right;\">-0.0378327</td><td style=\"text-align: right;\">0.0447752</td><td style=\"text-align: right;\"> 0.00493245 </td><td style=\"text-align: right;\">-0.090341 </td><td style=\"text-align: right;\">0.0538455</td><td style=\"text-align: right;\">0.0623604</td><td style=\"text-align: right;\"> 0.00351696</td><td style=\"text-align: right;\">0.00834282 </td><td style=\"text-align: right;\">0.0216088</td><td style=\"text-align: right;\">0.0413466</td><td style=\"text-align: right;\">0.0854622</td><td style=\"text-align: right;\">0.0100891 </td><td style=\"text-align: right;\">0.0272999</td><td style=\"text-align: right;\">0.0312883</td><td style=\"text-align: right;\">0.0732239</td><td style=\"text-align: right;\">0.0523736</td><td style=\"text-align: right;\">-0.00548683</td><td style=\"text-align: right;\">0.0388893</td><td style=\"text-align: right;\">0.00223228</td><td style=\"text-align: right;\">0.00345796</td><td style=\"text-align: right;\">-0.054314 </td><td style=\"text-align: right;\">-0.0305002</td><td style=\"text-align: right;\">-0.0108391 </td><td style=\"text-align: right;\">-0.00411597</td><td style=\"text-align: right;\">0.0118015 </td><td style=\"text-align: right;\">0.0331959</td><td style=\"text-align: right;\">0.0228065</td><td style=\"text-align: right;\">0.0227802</td><td style=\"text-align: right;\">0.00712324</td><td style=\"text-align: right;\"> 0.00246981 </td><td style=\"text-align: right;\">-0.0478461</td><td style=\"text-align: right;\">0.0282198</td><td style=\"text-align: right;\">0.0175963</td><td style=\"text-align: right;\">-0.0312764</td></tr>\n",
       "<tr><td>The selection on the menu was great and so were the prices.                                                    </td><td style=\"text-align: right;\">         1</td><td style=\"text-align: right;\">0.0471089</td><td style=\"text-align: right;\">0.025896 </td><td style=\"text-align: right;\">-0.0782096</td><td style=\"text-align: right;\">0.0656024</td><td style=\"text-align: right;\">-0.0643051</td><td style=\"text-align: right;\">-0.05913  </td><td style=\"text-align: right;\">-0.101708 </td><td style=\"text-align: right;\">0.0494231</td><td style=\"text-align: right;\">-0.00756686</td><td style=\"text-align: right;\">0.0413456</td><td style=\"text-align: right;\">0.0965652</td><td style=\"text-align: right;\">0.0333483</td><td style=\"text-align: right;\">0.0552997</td><td style=\"text-align: right;\">-0.0245949</td><td style=\"text-align: right;\">0.0986256</td><td style=\"text-align: right;\">0.050017 </td><td style=\"text-align: right;\">0.00870272</td><td style=\"text-align: right;\">0.0245724</td><td style=\"text-align: right;\">0.0170864</td><td style=\"text-align: right;\">-0.00242156 </td><td style=\"text-align: right;\">-0.0460951</td><td style=\"text-align: right;\"> 0.00156287 </td><td style=\"text-align: right;\">0.0937923</td><td style=\"text-align: right;\">-0.0527052</td><td style=\"text-align: right;\">-0.0107357 </td><td style=\"text-align: right;\">-0.0126121 </td><td style=\"text-align: right;\">-0.0896604</td><td style=\"text-align: right;\">-0.0906521</td><td style=\"text-align: right;\">-0.0128695 </td><td style=\"text-align: right;\">-0.0312357</td><td style=\"text-align: right;\">-0.0343121</td><td style=\"text-align: right;\"> 0.00177106 </td><td style=\"text-align: right;\">0.0449805</td><td style=\"text-align: right;\">0.0288126</td><td style=\"text-align: right;\">0.027794 </td><td style=\"text-align: right;\">-0.0381826</td><td style=\"text-align: right;\">-0.0433156</td><td style=\"text-align: right;\">-0.0147735 </td><td style=\"text-align: right;\">-0.00809371</td><td style=\"text-align: right;\">0.0404108</td><td style=\"text-align: right;\">-0.0614864</td><td style=\"text-align: right;\">-0.0393535</td><td style=\"text-align: right;\">0.0154201</td><td style=\"text-align: right;\">-0.0122966 </td><td style=\"text-align: right;\">-0.0599585</td><td style=\"text-align: right;\">-0.0119808 </td><td style=\"text-align: right;\">0.115589 </td><td style=\"text-align: right;\">0.0189748</td><td style=\"text-align: right;\">-0.0599153</td><td style=\"text-align: right;\">-0.0430916</td><td style=\"text-align: right;\">0.0409955</td><td style=\"text-align: right;\">-0.0223702</td><td style=\"text-align: right;\">0.0247612</td><td style=\"text-align: right;\">-0.00872165</td><td style=\"text-align: right;\">-0.0200923</td><td style=\"text-align: right;\">-0.0171945</td><td style=\"text-align: right;\">0.0251113</td><td style=\"text-align: right;\">0.0486592</td><td style=\"text-align: right;\">-0.0362795</td><td style=\"text-align: right;\">0.0706698</td><td style=\"text-align: right;\">-0.0246339</td><td style=\"text-align: right;\">0.00628681</td><td style=\"text-align: right;\">-0.00987944</td><td style=\"text-align: right;\">0.0470991</td><td style=\"text-align: right;\">0.00690263</td><td style=\"text-align: right;\">0.019789 </td><td style=\"text-align: right;\">-0.0403475</td><td style=\"text-align: right;\">0.0492199</td><td style=\"text-align: right;\"> 0.00651012 </td><td style=\"text-align: right;\">-0.102747 </td><td style=\"text-align: right;\">0.0613096</td><td style=\"text-align: right;\">0.0726779</td><td style=\"text-align: right;\"> 0.00252903</td><td style=\"text-align: right;\">0.00860259 </td><td style=\"text-align: right;\">0.0198412</td><td style=\"text-align: right;\">0.0421567</td><td style=\"text-align: right;\">0.0946148</td><td style=\"text-align: right;\">0.00734234</td><td style=\"text-align: right;\">0.0280399</td><td style=\"text-align: right;\">0.0371747</td><td style=\"text-align: right;\">0.0817926</td><td style=\"text-align: right;\">0.0567223</td><td style=\"text-align: right;\">-0.00768097</td><td style=\"text-align: right;\">0.0430303</td><td style=\"text-align: right;\">0.00690798</td><td style=\"text-align: right;\">0.00782421</td><td style=\"text-align: right;\">-0.0618359</td><td style=\"text-align: right;\">-0.0369799</td><td style=\"text-align: right;\">-0.0129402 </td><td style=\"text-align: right;\">-0.00393814</td><td style=\"text-align: right;\">0.0119218 </td><td style=\"text-align: right;\">0.0352219</td><td style=\"text-align: right;\">0.028179 </td><td style=\"text-align: right;\">0.0231894</td><td style=\"text-align: right;\">0.0104296 </td><td style=\"text-align: right;\"> 0.00234564 </td><td style=\"text-align: right;\">-0.052349 </td><td style=\"text-align: right;\">0.0305639</td><td style=\"text-align: right;\">0.0228266</td><td style=\"text-align: right;\">-0.038552 </td></tr>\n",
       "<tr><td>Now I am getting angry and I want my damn pho.                                                                 </td><td style=\"text-align: right;\">         0</td><td style=\"text-align: right;\">0.0403864</td><td style=\"text-align: right;\">0.0201525</td><td style=\"text-align: right;\">-0.0682354</td><td style=\"text-align: right;\">0.0539838</td><td style=\"text-align: right;\">-0.0509654</td><td style=\"text-align: right;\">-0.0484954</td><td style=\"text-align: right;\">-0.0871629</td><td style=\"text-align: right;\">0.0449818</td><td style=\"text-align: right;\">-0.00604239</td><td style=\"text-align: right;\">0.0334719</td><td style=\"text-align: right;\">0.0781202</td><td style=\"text-align: right;\">0.0286721</td><td style=\"text-align: right;\">0.0454737</td><td style=\"text-align: right;\">-0.0217411</td><td style=\"text-align: right;\">0.0845134</td><td style=\"text-align: right;\">0.0407775</td><td style=\"text-align: right;\">0.00843246</td><td style=\"text-align: right;\">0.0242545</td><td style=\"text-align: right;\">0.0130989</td><td style=\"text-align: right;\">-0.00277986 </td><td style=\"text-align: right;\">-0.0460953</td><td style=\"text-align: right;\"> 0.00221008 </td><td style=\"text-align: right;\">0.0811899</td><td style=\"text-align: right;\">-0.0418953</td><td style=\"text-align: right;\">-0.00485157</td><td style=\"text-align: right;\">-0.00776484</td><td style=\"text-align: right;\">-0.0775461</td><td style=\"text-align: right;\">-0.0747595</td><td style=\"text-align: right;\">-0.00736876</td><td style=\"text-align: right;\">-0.0272209</td><td style=\"text-align: right;\">-0.0280138</td><td style=\"text-align: right;\"> 0.00268028 </td><td style=\"text-align: right;\">0.0361424</td><td style=\"text-align: right;\">0.0283448</td><td style=\"text-align: right;\">0.0227465</td><td style=\"text-align: right;\">-0.028498 </td><td style=\"text-align: right;\">-0.0432745</td><td style=\"text-align: right;\">-0.0172409 </td><td style=\"text-align: right;\">-0.00300921</td><td style=\"text-align: right;\">0.0309953</td><td style=\"text-align: right;\">-0.0514037</td><td style=\"text-align: right;\">-0.0306751</td><td style=\"text-align: right;\">0.0151313</td><td style=\"text-align: right;\">-0.00583928</td><td style=\"text-align: right;\">-0.0518492</td><td style=\"text-align: right;\">-0.00676134</td><td style=\"text-align: right;\">0.0992437</td><td style=\"text-align: right;\">0.0193411</td><td style=\"text-align: right;\">-0.0507525</td><td style=\"text-align: right;\">-0.0332934</td><td style=\"text-align: right;\">0.0364495</td><td style=\"text-align: right;\">-0.018421 </td><td style=\"text-align: right;\">0.0172136</td><td style=\"text-align: right;\">-0.00760735</td><td style=\"text-align: right;\">-0.0164974</td><td style=\"text-align: right;\">-0.015601 </td><td style=\"text-align: right;\">0.022685 </td><td style=\"text-align: right;\">0.0434822</td><td style=\"text-align: right;\">-0.0326671</td><td style=\"text-align: right;\">0.0582499</td><td style=\"text-align: right;\">-0.0175232</td><td style=\"text-align: right;\">0.00667936</td><td style=\"text-align: right;\">-0.00325104</td><td style=\"text-align: right;\">0.043763 </td><td style=\"text-align: right;\">0.00292041</td><td style=\"text-align: right;\">0.0175221</td><td style=\"text-align: right;\">-0.0331298</td><td style=\"text-align: right;\">0.0419468</td><td style=\"text-align: right;\"> 0.00760499 </td><td style=\"text-align: right;\">-0.0871981</td><td style=\"text-align: right;\">0.0507157</td><td style=\"text-align: right;\">0.0621342</td><td style=\"text-align: right;\"> 0.00123876</td><td style=\"text-align: right;\">0.00676706 </td><td style=\"text-align: right;\">0.0219127</td><td style=\"text-align: right;\">0.0380453</td><td style=\"text-align: right;\">0.0793414</td><td style=\"text-align: right;\">0.00573848</td><td style=\"text-align: right;\">0.0241876</td><td style=\"text-align: right;\">0.0306108</td><td style=\"text-align: right;\">0.069536 </td><td style=\"text-align: right;\">0.0466713</td><td style=\"text-align: right;\">-0.00631103</td><td style=\"text-align: right;\">0.0360694</td><td style=\"text-align: right;\">0.0061097 </td><td style=\"text-align: right;\">0.00774908</td><td style=\"text-align: right;\">-0.0473067</td><td style=\"text-align: right;\">-0.0292244</td><td style=\"text-align: right;\">-0.0115925 </td><td style=\"text-align: right;\">-0.00151266</td><td style=\"text-align: right;\">0.0122491 </td><td style=\"text-align: right;\">0.0332975</td><td style=\"text-align: right;\">0.0225272</td><td style=\"text-align: right;\">0.0256524</td><td style=\"text-align: right;\">0.0070831 </td><td style=\"text-align: right;\"> 0.00115899 </td><td style=\"text-align: right;\">-0.0394881</td><td style=\"text-align: right;\">0.0226282</td><td style=\"text-align: right;\">0.0189432</td><td style=\"text-align: right;\">-0.0296075</td></tr>\n",
       "<tr><td>Honeslty it didn't taste THAT fresh.)                                                                          </td><td style=\"text-align: right;\">         0</td><td style=\"text-align: right;\">0.0374014</td><td style=\"text-align: right;\">0.0216556</td><td style=\"text-align: right;\">-0.0628858</td><td style=\"text-align: right;\">0.0552088</td><td style=\"text-align: right;\">-0.0499779</td><td style=\"text-align: right;\">-0.0443473</td><td style=\"text-align: right;\">-0.0862496</td><td style=\"text-align: right;\">0.0375783</td><td style=\"text-align: right;\">-0.00654361</td><td style=\"text-align: right;\">0.0326323</td><td style=\"text-align: right;\">0.0722866</td><td style=\"text-align: right;\">0.0240709</td><td style=\"text-align: right;\">0.04535  </td><td style=\"text-align: right;\">-0.0166011</td><td style=\"text-align: right;\">0.0827612</td><td style=\"text-align: right;\">0.0402278</td><td style=\"text-align: right;\">0.00985409</td><td style=\"text-align: right;\">0.0233154</td><td style=\"text-align: right;\">0.013161 </td><td style=\"text-align: right;\">-0.00270239 </td><td style=\"text-align: right;\">-0.0467981</td><td style=\"text-align: right;\"> 0.00718746 </td><td style=\"text-align: right;\">0.0727428</td><td style=\"text-align: right;\">-0.0446717</td><td style=\"text-align: right;\">-0.00614072</td><td style=\"text-align: right;\">-0.00979645</td><td style=\"text-align: right;\">-0.0732088</td><td style=\"text-align: right;\">-0.0679168</td><td style=\"text-align: right;\">-0.00320806</td><td style=\"text-align: right;\">-0.0245784</td><td style=\"text-align: right;\">-0.0354834</td><td style=\"text-align: right;\">-0.00136361 </td><td style=\"text-align: right;\">0.0324992</td><td style=\"text-align: right;\">0.0266191</td><td style=\"text-align: right;\">0.0221993</td><td style=\"text-align: right;\">-0.0280228</td><td style=\"text-align: right;\">-0.0397057</td><td style=\"text-align: right;\">-0.0130219 </td><td style=\"text-align: right;\">-0.00214495</td><td style=\"text-align: right;\">0.034125 </td><td style=\"text-align: right;\">-0.0523909</td><td style=\"text-align: right;\">-0.0339416</td><td style=\"text-align: right;\">0.0170477</td><td style=\"text-align: right;\">-0.00227138</td><td style=\"text-align: right;\">-0.0423083</td><td style=\"text-align: right;\">-0.0010298 </td><td style=\"text-align: right;\">0.0905298</td><td style=\"text-align: right;\">0.0173932</td><td style=\"text-align: right;\">-0.0480045</td><td style=\"text-align: right;\">-0.0312652</td><td style=\"text-align: right;\">0.0334357</td><td style=\"text-align: right;\">-0.0217282</td><td style=\"text-align: right;\">0.0144132</td><td style=\"text-align: right;\">-0.00862982</td><td style=\"text-align: right;\">-0.0224957</td><td style=\"text-align: right;\">-0.0185319</td><td style=\"text-align: right;\">0.0274174</td><td style=\"text-align: right;\">0.0402906</td><td style=\"text-align: right;\">-0.0292317</td><td style=\"text-align: right;\">0.0535998</td><td style=\"text-align: right;\">-0.0202702</td><td style=\"text-align: right;\">0.00556066</td><td style=\"text-align: right;\">-0.00654003</td><td style=\"text-align: right;\">0.0423435</td><td style=\"text-align: right;\">0.00518443</td><td style=\"text-align: right;\">0.0201039</td><td style=\"text-align: right;\">-0.0328945</td><td style=\"text-align: right;\">0.0357934</td><td style=\"text-align: right;\"> 0.00249035 </td><td style=\"text-align: right;\">-0.0835193</td><td style=\"text-align: right;\">0.0482309</td><td style=\"text-align: right;\">0.0543165</td><td style=\"text-align: right;\"> 0.00588013</td><td style=\"text-align: right;\">0.00767902 </td><td style=\"text-align: right;\">0.0215407</td><td style=\"text-align: right;\">0.0359299</td><td style=\"text-align: right;\">0.078263 </td><td style=\"text-align: right;\">0.00724006</td><td style=\"text-align: right;\">0.026334 </td><td style=\"text-align: right;\">0.0310646</td><td style=\"text-align: right;\">0.0678977</td><td style=\"text-align: right;\">0.0499269</td><td style=\"text-align: right;\">-0.00361573</td><td style=\"text-align: right;\">0.0350704</td><td style=\"text-align: right;\">0.0031538 </td><td style=\"text-align: right;\">0.00508844</td><td style=\"text-align: right;\">-0.0462311</td><td style=\"text-align: right;\">-0.0272524</td><td style=\"text-align: right;\">-0.0109391 </td><td style=\"text-align: right;\">-0.00370369</td><td style=\"text-align: right;\">0.00961002</td><td style=\"text-align: right;\">0.0334343</td><td style=\"text-align: right;\">0.0203577</td><td style=\"text-align: right;\">0.0233507</td><td style=\"text-align: right;\">0.00486463</td><td style=\"text-align: right;\"> 4.89642e-05</td><td style=\"text-align: right;\">-0.0395133</td><td style=\"text-align: right;\">0.0227338</td><td style=\"text-align: right;\">0.0139534</td><td style=\"text-align: right;\">-0.0338406</td></tr>\n",
       "<tr><td>The potatoes were like rubber and you could tell they had been made up ahead of time being kept under a warmer.</td><td style=\"text-align: right;\">         0</td><td style=\"text-align: right;\">0.0426084</td><td style=\"text-align: right;\">0.0244977</td><td style=\"text-align: right;\">-0.0744278</td><td style=\"text-align: right;\">0.0614885</td><td style=\"text-align: right;\">-0.0577606</td><td style=\"text-align: right;\">-0.0520205</td><td style=\"text-align: right;\">-0.0947724</td><td style=\"text-align: right;\">0.046879 </td><td style=\"text-align: right;\">-0.00731527</td><td style=\"text-align: right;\">0.0362356</td><td style=\"text-align: right;\">0.0872925</td><td style=\"text-align: right;\">0.0305445</td><td style=\"text-align: right;\">0.0516715</td><td style=\"text-align: right;\">-0.0247022</td><td style=\"text-align: right;\">0.0926796</td><td style=\"text-align: right;\">0.0468586</td><td style=\"text-align: right;\">0.0104981 </td><td style=\"text-align: right;\">0.0263655</td><td style=\"text-align: right;\">0.017103 </td><td style=\"text-align: right;\">-0.00918763 </td><td style=\"text-align: right;\">-0.0495095</td><td style=\"text-align: right;\">-0.00230746 </td><td style=\"text-align: right;\">0.0854532</td><td style=\"text-align: right;\">-0.0469785</td><td style=\"text-align: right;\">-0.00632539</td><td style=\"text-align: right;\">-0.00829345</td><td style=\"text-align: right;\">-0.0844186</td><td style=\"text-align: right;\">-0.0837902</td><td style=\"text-align: right;\">-0.0120247 </td><td style=\"text-align: right;\">-0.0281337</td><td style=\"text-align: right;\">-0.0356969</td><td style=\"text-align: right;\"> 0.00099631 </td><td style=\"text-align: right;\">0.0406082</td><td style=\"text-align: right;\">0.0299372</td><td style=\"text-align: right;\">0.0268317</td><td style=\"text-align: right;\">-0.0360226</td><td style=\"text-align: right;\">-0.0423173</td><td style=\"text-align: right;\">-0.0147354 </td><td style=\"text-align: right;\">-0.00605233</td><td style=\"text-align: right;\">0.0340265</td><td style=\"text-align: right;\">-0.0568577</td><td style=\"text-align: right;\">-0.035586 </td><td style=\"text-align: right;\">0.0178668</td><td style=\"text-align: right;\">-0.00853593</td><td style=\"text-align: right;\">-0.0555799</td><td style=\"text-align: right;\">-0.00688047</td><td style=\"text-align: right;\">0.11041  </td><td style=\"text-align: right;\">0.0193974</td><td style=\"text-align: right;\">-0.0544644</td><td style=\"text-align: right;\">-0.0389704</td><td style=\"text-align: right;\">0.038302 </td><td style=\"text-align: right;\">-0.0210343</td><td style=\"text-align: right;\">0.0232574</td><td style=\"text-align: right;\">-0.0116509 </td><td style=\"text-align: right;\">-0.0214608</td><td style=\"text-align: right;\">-0.0193598</td><td style=\"text-align: right;\">0.0268474</td><td style=\"text-align: right;\">0.0476947</td><td style=\"text-align: right;\">-0.0313515</td><td style=\"text-align: right;\">0.0645294</td><td style=\"text-align: right;\">-0.0224733</td><td style=\"text-align: right;\">0.00746295</td><td style=\"text-align: right;\">-0.00608429</td><td style=\"text-align: right;\">0.0444924</td><td style=\"text-align: right;\">0.00737499</td><td style=\"text-align: right;\">0.0204038</td><td style=\"text-align: right;\">-0.040494 </td><td style=\"text-align: right;\">0.0429974</td><td style=\"text-align: right;\"> 0.00629826 </td><td style=\"text-align: right;\">-0.0939343</td><td style=\"text-align: right;\">0.0580418</td><td style=\"text-align: right;\">0.0678229</td><td style=\"text-align: right;\"> 0.00323836</td><td style=\"text-align: right;\">0.0083625  </td><td style=\"text-align: right;\">0.0203792</td><td style=\"text-align: right;\">0.0390913</td><td style=\"text-align: right;\">0.0902758</td><td style=\"text-align: right;\">0.0064929 </td><td style=\"text-align: right;\">0.0310969</td><td style=\"text-align: right;\">0.0345796</td><td style=\"text-align: right;\">0.077058 </td><td style=\"text-align: right;\">0.0538179</td><td style=\"text-align: right;\">-0.00628452</td><td style=\"text-align: right;\">0.0418161</td><td style=\"text-align: right;\">0.00584156</td><td style=\"text-align: right;\">0.0073808 </td><td style=\"text-align: right;\">-0.0581696</td><td style=\"text-align: right;\">-0.0327349</td><td style=\"text-align: right;\">-0.0112376 </td><td style=\"text-align: right;\">-0.00362156</td><td style=\"text-align: right;\">0.0105686 </td><td style=\"text-align: right;\">0.0329628</td><td style=\"text-align: right;\">0.0235266</td><td style=\"text-align: right;\">0.0252764</td><td style=\"text-align: right;\">0.0105346 </td><td style=\"text-align: right;\"> 0.00213169 </td><td style=\"text-align: right;\">-0.0470211</td><td style=\"text-align: right;\">0.0303911</td><td style=\"text-align: right;\">0.0180767</td><td style=\"text-align: right;\">-0.03496  </td></tr>\n",
       "<tr><td>The fries were great too.                                                                                      </td><td style=\"text-align: right;\">         1</td><td style=\"text-align: right;\">0.0532637</td><td style=\"text-align: right;\">0.0282353</td><td style=\"text-align: right;\">-0.083788 </td><td style=\"text-align: right;\">0.072615 </td><td style=\"text-align: right;\">-0.0688926</td><td style=\"text-align: right;\">-0.0600353</td><td style=\"text-align: right;\">-0.108807 </td><td style=\"text-align: right;\">0.0572884</td><td style=\"text-align: right;\">-0.00800839</td><td style=\"text-align: right;\">0.0417875</td><td style=\"text-align: right;\">0.101718 </td><td style=\"text-align: right;\">0.038705 </td><td style=\"text-align: right;\">0.0619077</td><td style=\"text-align: right;\">-0.0285313</td><td style=\"text-align: right;\">0.109511 </td><td style=\"text-align: right;\">0.0530197</td><td style=\"text-align: right;\">0.0101834 </td><td style=\"text-align: right;\">0.0287483</td><td style=\"text-align: right;\">0.0180588</td><td style=\"text-align: right;\">-0.00341753 </td><td style=\"text-align: right;\">-0.0515957</td><td style=\"text-align: right;\"> 0.0050014  </td><td style=\"text-align: right;\">0.10144  </td><td style=\"text-align: right;\">-0.0545963</td><td style=\"text-align: right;\">-0.0117303 </td><td style=\"text-align: right;\">-0.0131772 </td><td style=\"text-align: right;\">-0.0976157</td><td style=\"text-align: right;\">-0.0946386</td><td style=\"text-align: right;\">-0.0137485 </td><td style=\"text-align: right;\">-0.0330828</td><td style=\"text-align: right;\">-0.039328 </td><td style=\"text-align: right;\"> 0.000887027</td><td style=\"text-align: right;\">0.049068 </td><td style=\"text-align: right;\">0.0353686</td><td style=\"text-align: right;\">0.0305286</td><td style=\"text-align: right;\">-0.0378932</td><td style=\"text-align: right;\">-0.0483503</td><td style=\"text-align: right;\">-0.0152729 </td><td style=\"text-align: right;\">-0.00437593</td><td style=\"text-align: right;\">0.0447375</td><td style=\"text-align: right;\">-0.0654671</td><td style=\"text-align: right;\">-0.0406233</td><td style=\"text-align: right;\">0.020407 </td><td style=\"text-align: right;\">-0.0124772 </td><td style=\"text-align: right;\">-0.066533 </td><td style=\"text-align: right;\">-0.0105051 </td><td style=\"text-align: right;\">0.126291 </td><td style=\"text-align: right;\">0.0176304</td><td style=\"text-align: right;\">-0.0648022</td><td style=\"text-align: right;\">-0.04786  </td><td style=\"text-align: right;\">0.0426928</td><td style=\"text-align: right;\">-0.0231614</td><td style=\"text-align: right;\">0.0250832</td><td style=\"text-align: right;\">-0.0132776 </td><td style=\"text-align: right;\">-0.0196114</td><td style=\"text-align: right;\">-0.0193268</td><td style=\"text-align: right;\">0.0286461</td><td style=\"text-align: right;\">0.0531438</td><td style=\"text-align: right;\">-0.0395373</td><td style=\"text-align: right;\">0.07788  </td><td style=\"text-align: right;\">-0.0275786</td><td style=\"text-align: right;\">0.00659321</td><td style=\"text-align: right;\">-0.00829566</td><td style=\"text-align: right;\">0.0519797</td><td style=\"text-align: right;\">0.0080581 </td><td style=\"text-align: right;\">0.024199 </td><td style=\"text-align: right;\">-0.0450605</td><td style=\"text-align: right;\">0.0522427</td><td style=\"text-align: right;\"> 0.00564166 </td><td style=\"text-align: right;\">-0.111126 </td><td style=\"text-align: right;\">0.0653547</td><td style=\"text-align: right;\">0.0786441</td><td style=\"text-align: right;\"> 0.00379846</td><td style=\"text-align: right;\">0.00963658 </td><td style=\"text-align: right;\">0.0254003</td><td style=\"text-align: right;\">0.0458453</td><td style=\"text-align: right;\">0.104842 </td><td style=\"text-align: right;\">0.00885027</td><td style=\"text-align: right;\">0.0292085</td><td style=\"text-align: right;\">0.0390743</td><td style=\"text-align: right;\">0.0884892</td><td style=\"text-align: right;\">0.0625456</td><td style=\"text-align: right;\">-0.0108968 </td><td style=\"text-align: right;\">0.0484794</td><td style=\"text-align: right;\">0.00494937</td><td style=\"text-align: right;\">0.00981796</td><td style=\"text-align: right;\">-0.0647712</td><td style=\"text-align: right;\">-0.0403111</td><td style=\"text-align: right;\">-0.0158601 </td><td style=\"text-align: right;\">-0.00653049</td><td style=\"text-align: right;\">0.0131195 </td><td style=\"text-align: right;\">0.0404502</td><td style=\"text-align: right;\">0.0308995</td><td style=\"text-align: right;\">0.0290569</td><td style=\"text-align: right;\">0.00862291</td><td style=\"text-align: right;\"> 0.00264753 </td><td style=\"text-align: right;\">-0.0576924</td><td style=\"text-align: right;\">0.0341817</td><td style=\"text-align: right;\">0.0226978</td><td style=\"text-align: right;\">-0.0425001</td></tr>\n",
       "<tr><td>A great touch.                                                                                                 </td><td style=\"text-align: right;\">         1</td><td style=\"text-align: right;\">0.0437267</td><td style=\"text-align: right;\">0.0230968</td><td style=\"text-align: right;\">-0.0726725</td><td style=\"text-align: right;\">0.0649995</td><td style=\"text-align: right;\">-0.0621039</td><td style=\"text-align: right;\">-0.0583895</td><td style=\"text-align: right;\">-0.0880156</td><td style=\"text-align: right;\">0.0470627</td><td style=\"text-align: right;\">-0.00958912</td><td style=\"text-align: right;\">0.0353454</td><td style=\"text-align: right;\">0.0884681</td><td style=\"text-align: right;\">0.036492 </td><td style=\"text-align: right;\">0.0518766</td><td style=\"text-align: right;\">-0.0287884</td><td style=\"text-align: right;\">0.0916877</td><td style=\"text-align: right;\">0.044431 </td><td style=\"text-align: right;\">0.00472929</td><td style=\"text-align: right;\">0.0267542</td><td style=\"text-align: right;\">0.0141753</td><td style=\"text-align: right;\"> 0.000480389</td><td style=\"text-align: right;\">-0.0461586</td><td style=\"text-align: right;\"> 0.00591033 </td><td style=\"text-align: right;\">0.0867392</td><td style=\"text-align: right;\">-0.0429824</td><td style=\"text-align: right;\">-0.0101409 </td><td style=\"text-align: right;\">-0.0116077 </td><td style=\"text-align: right;\">-0.086448 </td><td style=\"text-align: right;\">-0.0869029</td><td style=\"text-align: right;\">-0.0163511 </td><td style=\"text-align: right;\">-0.0264124</td><td style=\"text-align: right;\">-0.0297559</td><td style=\"text-align: right;\">-0.0019868  </td><td style=\"text-align: right;\">0.043195 </td><td style=\"text-align: right;\">0.0244343</td><td style=\"text-align: right;\">0.0240425</td><td style=\"text-align: right;\">-0.0350655</td><td style=\"text-align: right;\">-0.0401507</td><td style=\"text-align: right;\">-0.0082862 </td><td style=\"text-align: right;\">-0.00953573</td><td style=\"text-align: right;\">0.0324998</td><td style=\"text-align: right;\">-0.0523749</td><td style=\"text-align: right;\">-0.0365334</td><td style=\"text-align: right;\">0.0158541</td><td style=\"text-align: right;\">-0.0113664 </td><td style=\"text-align: right;\">-0.0573273</td><td style=\"text-align: right;\">-0.0115289 </td><td style=\"text-align: right;\">0.10541  </td><td style=\"text-align: right;\">0.0128042</td><td style=\"text-align: right;\">-0.060369 </td><td style=\"text-align: right;\">-0.0409411</td><td style=\"text-align: right;\">0.0369345</td><td style=\"text-align: right;\">-0.0186121</td><td style=\"text-align: right;\">0.0199241</td><td style=\"text-align: right;\">-0.00697834</td><td style=\"text-align: right;\">-0.0190713</td><td style=\"text-align: right;\">-0.0180578</td><td style=\"text-align: right;\">0.0175537</td><td style=\"text-align: right;\">0.0468438</td><td style=\"text-align: right;\">-0.0368887</td><td style=\"text-align: right;\">0.0683914</td><td style=\"text-align: right;\">-0.0257498</td><td style=\"text-align: right;\">0.00178109</td><td style=\"text-align: right;\">-0.0149149 </td><td style=\"text-align: right;\">0.0497328</td><td style=\"text-align: right;\">0.0116721 </td><td style=\"text-align: right;\">0.0129544</td><td style=\"text-align: right;\">-0.0389477</td><td style=\"text-align: right;\">0.045718 </td><td style=\"text-align: right;\">-0.000581502</td><td style=\"text-align: right;\">-0.0993679</td><td style=\"text-align: right;\">0.0569292</td><td style=\"text-align: right;\">0.0653417</td><td style=\"text-align: right;\"> 0.00774806</td><td style=\"text-align: right;\">0.000957285</td><td style=\"text-align: right;\">0.0182004</td><td style=\"text-align: right;\">0.0369285</td><td style=\"text-align: right;\">0.0864515</td><td style=\"text-align: right;\">0.00994743</td><td style=\"text-align: right;\">0.0266824</td><td style=\"text-align: right;\">0.0310465</td><td style=\"text-align: right;\">0.0792838</td><td style=\"text-align: right;\">0.0523396</td><td style=\"text-align: right;\">-0.00999214</td><td style=\"text-align: right;\">0.0367675</td><td style=\"text-align: right;\">0.00387487</td><td style=\"text-align: right;\">0.00925412</td><td style=\"text-align: right;\">-0.0586728</td><td style=\"text-align: right;\">-0.0338516</td><td style=\"text-align: right;\">-0.0139164 </td><td style=\"text-align: right;\">-0.00405639</td><td style=\"text-align: right;\">0.0121383 </td><td style=\"text-align: right;\">0.0312609</td><td style=\"text-align: right;\">0.0255203</td><td style=\"text-align: right;\">0.0228255</td><td style=\"text-align: right;\">0.00875448</td><td style=\"text-align: right;\">-0.00165788 </td><td style=\"text-align: right;\">-0.0499681</td><td style=\"text-align: right;\">0.0327576</td><td style=\"text-align: right;\">0.0239808</td><td style=\"text-align: right;\">-0.0371843</td></tr>\n",
       "</tbody>\n",
       "</table>"
      ]
     },
     "metadata": {},
     "output_type": "display_data"
    },
    {
     "data": {
      "text/plain": []
     },
     "execution_count": 150,
     "metadata": {},
     "output_type": "execute_result"
    }
   ],
   "source": [
    "ext_reviews = reviews.cbind(review_vecs)\n",
    "ext_reviews"
   ]
  },
  {
   "cell_type": "code",
   "execution_count": 151,
   "metadata": {},
   "outputs": [],
   "source": [
    "data_split = ext_reviews.split_frame(ratios=[0.8])\n",
    "\n",
    "ext_train = data_split[0]\n",
    "ext_test = data_split[1]\n",
    "\n"
   ]
  },
  {
   "cell_type": "code",
   "execution_count": 152,
   "metadata": {},
   "outputs": [
    {
     "name": "stdout",
     "output_type": "stream",
     "text": [
      "Build a basic GBM model\n",
      "gbm Model Build progress: |███████████████████████████████████████████████| 100%\n"
     ]
    }
   ],
   "source": [
    "\n",
    "\n",
    "\n",
    "print(\"Build a basic GBM model\")\n",
    "gbm_model = H2OGradientBoostingEstimator()\n",
    "gbm_model.train(x = ext_reviews.names,\n",
    "                y=\"Response\", \n",
    "                training_frame = data_split[0], \n",
    "                validation_frame = data_split[1])"
   ]
  },
  {
   "cell_type": "code",
   "execution_count": 153,
   "metadata": {},
   "outputs": [],
   "source": [
    "def predict(job_title,w2v, gbm):\n",
    "    words = tokenize(h2o.H2OFrame(job_title).ascharacter())\n",
    "    job_title_vec = w2v.transform(words, aggregate_method=\"AVERAGE\")\n",
    "    print(gbm.predict(test_data=job_title_vec))"
   ]
  },
  {
   "cell_type": "code",
   "execution_count": 157,
   "metadata": {},
   "outputs": [
    {
     "name": "stdout",
     "output_type": "stream",
     "text": [
      "Parse progress: |█████████████████████████████████████████████████████████| 100%\n",
      "gbm prediction progress: |████████████████████████████████████████████████| 100%\n"
     ]
    },
    {
     "data": {
      "text/html": [
       "<table>\n",
       "<thead>\n",
       "<tr><th style=\"text-align: right;\">  predict</th></tr>\n",
       "</thead>\n",
       "<tbody>\n",
       "<tr><td style=\"text-align: right;\"> 0.649637</td></tr>\n",
       "</tbody>\n",
       "</table>"
      ]
     },
     "metadata": {},
     "output_type": "display_data"
    },
    {
     "name": "stdout",
     "output_type": "stream",
     "text": [
      "\n",
      "None\n",
      "Parse progress: |█████████████████████████████████████████████████████████| 100%\n",
      "gbm prediction progress: |████████████████████████████████████████████████| 100%\n"
     ]
    },
    {
     "data": {
      "text/html": [
       "<table>\n",
       "<thead>\n",
       "<tr><th style=\"text-align: right;\">  predict</th></tr>\n",
       "</thead>\n",
       "<tbody>\n",
       "<tr><td style=\"text-align: right;\"> 0.493106</td></tr>\n",
       "</tbody>\n",
       "</table>"
      ]
     },
     "metadata": {},
     "output_type": "display_data"
    },
    {
     "name": "stdout",
     "output_type": "stream",
     "text": [
      "\n",
      "None\n"
     ]
    }
   ],
   "source": [
    "print(predict([\"a huge selection\"], w2v_model, gbm_model))\n",
    "print(predict([\"a little\"], w2v_model, gbm_model))\n"
   ]
  },
  {
   "cell_type": "code",
   "execution_count": 158,
   "metadata": {},
   "outputs": [
    {
     "data": {
      "image/png": "[encoded data removed]",
      "text/plain": [
       "<matplotlib.figure.Figure at 0x1175297f0>"
      ]
     },
     "metadata": {},
     "output_type": "display_data"
    }
   ],
   "source": [
    "plt=gbm_model.varimp_plot()\n"
   ]
  },
  {
   "cell_type": "code",
   "execution_count": 159,
   "metadata": {},
   "outputs": [
    {
     "name": "stdout",
     "output_type": "stream",
     "text": [
      "H2O session _sid_9cd5 closed.\n"
     ]
    }
   ],
   "source": [
    "h2o.cluster().shutdown()\n"
   ]
  },
  {
   "cell_type": "code",
   "execution_count": null,
   "metadata": {},
   "outputs": [],
   "source": []
  }
 ],
 "metadata": {
  "kernelspec": {
   "display_name": "Python 3",
   "language": "python",
   "name": "python3"
  },
  "language_info": {
   "codemirror_mode": {
    "name": "ipython",
    "version": 3
   },
   "file_extension": ".py",
   "mimetype": "text/x-python",
   "name": "python",
   "nbconvert_exporter": "python",
   "pygments_lexer": "ipython3",
   "version": "3.6.4"
  }
 },
 "nbformat": 4,
 "nbformat_minor": 2
}
